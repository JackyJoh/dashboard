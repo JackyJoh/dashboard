{
 "cells": [
  {
   "cell_type": "code",
   "execution_count": 2,
   "id": "a2a4f0ef",
   "metadata": {},
   "outputs": [],
   "source": [
    "import pandas as pd"
   ]
  },
  {
   "cell_type": "code",
   "execution_count": 3,
   "id": "f004debe",
   "metadata": {},
   "outputs": [
    {
     "data": {
      "application/vnd.microsoft.datawrangler.viewer.v0+json": {
       "columns": [
        {
         "name": "index",
         "rawType": "int64",
         "type": "integer"
        },
        {
         "name": "First Name",
         "rawType": "object",
         "type": "string"
        },
        {
         "name": "Last Name",
         "rawType": "object",
         "type": "string"
        },
        {
         "name": "Member ID",
         "rawType": "object",
         "type": "string"
        },
        {
         "name": "Care Gap",
         "rawType": "object",
         "type": "string"
        },
        {
         "name": "DOB",
         "rawType": "object",
         "type": "unknown"
        },
        {
         "name": "Insurance",
         "rawType": "object",
         "type": "string"
        },
        {
         "name": "Doctor/Provider",
         "rawType": "object",
         "type": "unknown"
        },
        {
         "name": "Notes",
         "rawType": "object",
         "type": "unknown"
        }
       ],
       "ref": "9fded84c-62ea-4a0a-b86a-a0ae31c247ab",
       "rows": [
        [
         "0",
         "TERO",
         "AALTO",
         "UZ0649",
         "Adult Immunization Status Influenza",
         "1971-10-02 00:00:00",
         "Market Place - Florida",
         "MARY A GALLAWAY ",
         "No Immunizations for patient"
        ],
        [
         "1",
         "TERO",
         "AALTO",
         "UZ0649",
         "Adult Immunization Status Zoster",
         "1971-10-02 00:00:00",
         "Market Place - Florida",
         "MARY A GALLAWAY ",
         "No Immunizations for patient"
        ],
        [
         "2",
         "TERO",
         "AALTO",
         "UZ0649",
         "Annual Preventive Visit",
         "1971-10-02 00:00:00",
         "Market Place - Florida",
         "MARY A GALLAWAY ",
         "Pt has not been seen since 2021"
        ],
        [
         "3",
         "TERO",
         "AALTO",
         "101986",
         "Annual Preventive Visit",
         "10/02/1971",
         "Ambetter",
         null,
         null
        ],
        [
         "4",
         "DAVID",
         "AARONS",
         "918043",
         "Colorectal Cancer Screening",
         "1961-02-07 00:00:00",
         "Wellmed",
         "Josephson MD, Mark E",
         "already submitted 6.2025. 8/27/2025"
        ],
        [
         "5",
         "ADRIANA",
         "ABAD LEYVA",
         "UZ0693",
         "Adult Immunization Status Influenza",
         "1987-04-02 00:00:00",
         "Market Place - Florida",
         "JANICE R SHERIDAN ",
         "Closes by Claims"
        ],
        [
         "6",
         "ADRIANA",
         "ABAD LEYVA",
         "102001",
         "Annual Preventive Visit",
         "04/02/1987",
         "Ambetter",
         null,
         null
        ],
        [
         "7",
         "ROSA",
         "ABAD LONDRES",
         "UZ0345",
         "Adult Immunization Status Td/Tdap",
         "1998-04-08 00:00:00",
         "Market Place - Florida",
         "ADRIAN C ZAMORA ",
         "Pt not in EPIC"
        ],
        [
         "8",
         "ROSA",
         "ABAD LONDRES",
         "UZ0345",
         "Annual Preventive Visit",
         "1998-04-08 00:00:00",
         "Market Place - Florida",
         "ADRIAN C ZAMORA ",
         "Pt not in EPIC"
        ],
        [
         "9",
         "ROSA",
         "ABAD LONDRES",
         "101884",
         "Annual Preventive Visit",
         "04/08/1998",
         "Ambetter",
         null,
         null
        ]
       ],
       "shape": {
        "columns": 8,
        "rows": 10
       }
      },
      "text/html": [
       "<div>\n",
       "<style scoped>\n",
       "    .dataframe tbody tr th:only-of-type {\n",
       "        vertical-align: middle;\n",
       "    }\n",
       "\n",
       "    .dataframe tbody tr th {\n",
       "        vertical-align: top;\n",
       "    }\n",
       "\n",
       "    .dataframe thead th {\n",
       "        text-align: right;\n",
       "    }\n",
       "</style>\n",
       "<table border=\"1\" class=\"dataframe\">\n",
       "  <thead>\n",
       "    <tr style=\"text-align: right;\">\n",
       "      <th></th>\n",
       "      <th>First Name</th>\n",
       "      <th>Last Name</th>\n",
       "      <th>Member ID</th>\n",
       "      <th>Care Gap</th>\n",
       "      <th>DOB</th>\n",
       "      <th>Insurance</th>\n",
       "      <th>Doctor/Provider</th>\n",
       "      <th>Notes</th>\n",
       "    </tr>\n",
       "  </thead>\n",
       "  <tbody>\n",
       "    <tr>\n",
       "      <th>0</th>\n",
       "      <td>TERO</td>\n",
       "      <td>AALTO</td>\n",
       "      <td>UZ0649</td>\n",
       "      <td>Adult Immunization Status Influenza</td>\n",
       "      <td>1971-10-02 00:00:00</td>\n",
       "      <td>Market Place - Florida</td>\n",
       "      <td>MARY A GALLAWAY</td>\n",
       "      <td>No Immunizations for patient</td>\n",
       "    </tr>\n",
       "    <tr>\n",
       "      <th>1</th>\n",
       "      <td>TERO</td>\n",
       "      <td>AALTO</td>\n",
       "      <td>UZ0649</td>\n",
       "      <td>Adult Immunization Status Zoster</td>\n",
       "      <td>1971-10-02 00:00:00</td>\n",
       "      <td>Market Place - Florida</td>\n",
       "      <td>MARY A GALLAWAY</td>\n",
       "      <td>No Immunizations for patient</td>\n",
       "    </tr>\n",
       "    <tr>\n",
       "      <th>2</th>\n",
       "      <td>TERO</td>\n",
       "      <td>AALTO</td>\n",
       "      <td>UZ0649</td>\n",
       "      <td>Annual Preventive Visit</td>\n",
       "      <td>1971-10-02 00:00:00</td>\n",
       "      <td>Market Place - Florida</td>\n",
       "      <td>MARY A GALLAWAY</td>\n",
       "      <td>Pt has not been seen since 2021</td>\n",
       "    </tr>\n",
       "    <tr>\n",
       "      <th>3</th>\n",
       "      <td>TERO</td>\n",
       "      <td>AALTO</td>\n",
       "      <td>101986</td>\n",
       "      <td>Annual Preventive Visit</td>\n",
       "      <td>10/02/1971</td>\n",
       "      <td>Ambetter</td>\n",
       "      <td>NaN</td>\n",
       "      <td>NaN</td>\n",
       "    </tr>\n",
       "    <tr>\n",
       "      <th>4</th>\n",
       "      <td>DAVID</td>\n",
       "      <td>AARONS</td>\n",
       "      <td>918043</td>\n",
       "      <td>Colorectal Cancer Screening</td>\n",
       "      <td>1961-02-07 00:00:00</td>\n",
       "      <td>Wellmed</td>\n",
       "      <td>Josephson MD, Mark E</td>\n",
       "      <td>already submitted 6.2025. 8/27/2025</td>\n",
       "    </tr>\n",
       "    <tr>\n",
       "      <th>5</th>\n",
       "      <td>ADRIANA</td>\n",
       "      <td>ABAD LEYVA</td>\n",
       "      <td>UZ0693</td>\n",
       "      <td>Adult Immunization Status Influenza</td>\n",
       "      <td>1987-04-02 00:00:00</td>\n",
       "      <td>Market Place - Florida</td>\n",
       "      <td>JANICE R SHERIDAN</td>\n",
       "      <td>Closes by Claims</td>\n",
       "    </tr>\n",
       "    <tr>\n",
       "      <th>6</th>\n",
       "      <td>ADRIANA</td>\n",
       "      <td>ABAD LEYVA</td>\n",
       "      <td>102001</td>\n",
       "      <td>Annual Preventive Visit</td>\n",
       "      <td>04/02/1987</td>\n",
       "      <td>Ambetter</td>\n",
       "      <td>NaN</td>\n",
       "      <td>NaN</td>\n",
       "    </tr>\n",
       "    <tr>\n",
       "      <th>7</th>\n",
       "      <td>ROSA</td>\n",
       "      <td>ABAD LONDRES</td>\n",
       "      <td>UZ0345</td>\n",
       "      <td>Adult Immunization Status Td/Tdap</td>\n",
       "      <td>1998-04-08 00:00:00</td>\n",
       "      <td>Market Place - Florida</td>\n",
       "      <td>ADRIAN C ZAMORA</td>\n",
       "      <td>Pt not in EPIC</td>\n",
       "    </tr>\n",
       "    <tr>\n",
       "      <th>8</th>\n",
       "      <td>ROSA</td>\n",
       "      <td>ABAD LONDRES</td>\n",
       "      <td>UZ0345</td>\n",
       "      <td>Annual Preventive Visit</td>\n",
       "      <td>1998-04-08 00:00:00</td>\n",
       "      <td>Market Place - Florida</td>\n",
       "      <td>ADRIAN C ZAMORA</td>\n",
       "      <td>Pt not in EPIC</td>\n",
       "    </tr>\n",
       "    <tr>\n",
       "      <th>9</th>\n",
       "      <td>ROSA</td>\n",
       "      <td>ABAD LONDRES</td>\n",
       "      <td>101884</td>\n",
       "      <td>Annual Preventive Visit</td>\n",
       "      <td>04/08/1998</td>\n",
       "      <td>Ambetter</td>\n",
       "      <td>NaN</td>\n",
       "      <td>NaN</td>\n",
       "    </tr>\n",
       "  </tbody>\n",
       "</table>\n",
       "</div>"
      ],
      "text/plain": [
       "  First Name     Last Name Member ID                             Care Gap  \\\n",
       "0       TERO         AALTO    UZ0649  Adult Immunization Status Influenza   \n",
       "1       TERO         AALTO    UZ0649     Adult Immunization Status Zoster   \n",
       "2       TERO         AALTO    UZ0649              Annual Preventive Visit   \n",
       "3       TERO         AALTO    101986              Annual Preventive Visit   \n",
       "4      DAVID        AARONS    918043          Colorectal Cancer Screening   \n",
       "5    ADRIANA    ABAD LEYVA    UZ0693  Adult Immunization Status Influenza   \n",
       "6    ADRIANA    ABAD LEYVA    102001              Annual Preventive Visit   \n",
       "7       ROSA  ABAD LONDRES    UZ0345    Adult Immunization Status Td/Tdap   \n",
       "8       ROSA  ABAD LONDRES    UZ0345              Annual Preventive Visit   \n",
       "9       ROSA  ABAD LONDRES    101884              Annual Preventive Visit   \n",
       "\n",
       "                   DOB               Insurance       Doctor/Provider  \\\n",
       "0  1971-10-02 00:00:00  Market Place - Florida      MARY A GALLAWAY    \n",
       "1  1971-10-02 00:00:00  Market Place - Florida      MARY A GALLAWAY    \n",
       "2  1971-10-02 00:00:00  Market Place - Florida      MARY A GALLAWAY    \n",
       "3           10/02/1971                Ambetter                   NaN   \n",
       "4  1961-02-07 00:00:00                 Wellmed  Josephson MD, Mark E   \n",
       "5  1987-04-02 00:00:00  Market Place - Florida    JANICE R SHERIDAN    \n",
       "6           04/02/1987                Ambetter                   NaN   \n",
       "7  1998-04-08 00:00:00  Market Place - Florida      ADRIAN C ZAMORA    \n",
       "8  1998-04-08 00:00:00  Market Place - Florida      ADRIAN C ZAMORA    \n",
       "9           04/08/1998                Ambetter                   NaN   \n",
       "\n",
       "                                 Notes  \n",
       "0         No Immunizations for patient  \n",
       "1         No Immunizations for patient  \n",
       "2      Pt has not been seen since 2021  \n",
       "3                                  NaN  \n",
       "4  already submitted 6.2025. 8/27/2025  \n",
       "5                     Closes by Claims  \n",
       "6                                  NaN  \n",
       "7                       Pt not in EPIC  \n",
       "8                       Pt not in EPIC  \n",
       "9                                  NaN  "
      ]
     },
     "execution_count": 3,
     "metadata": {},
     "output_type": "execute_result"
    }
   ],
   "source": [
    "gaps = pd.read_excel(\"caregaps.xlsx\")\n",
    "gaps.head(10)\n"
   ]
  },
  {
   "cell_type": "code",
   "execution_count": 4,
   "id": "924e5042",
   "metadata": {},
   "outputs": [
    {
     "data": {
      "text/plain": [
       "37108"
      ]
     },
     "execution_count": 4,
     "metadata": {},
     "output_type": "execute_result"
    }
   ],
   "source": [
    "before = len(gaps)\n",
    "before"
   ]
  },
  {
   "cell_type": "code",
   "execution_count": 5,
   "id": "30cc2259",
   "metadata": {},
   "outputs": [],
   "source": [
    "gaps = gaps.drop_duplicates(subset=['Care Gap', 'First Name', 'Last Name', 'DOB'], keep='first') # DOB is slightly dif on dif rosters, use Names\n",
    "gaps = gaps.drop_duplicates(subset=['Care Gap', 'First Name', 'Member ID', 'Last Name'], keep='first')"
   ]
  },
  {
   "cell_type": "code",
   "execution_count": 6,
   "id": "6858b15b",
   "metadata": {},
   "outputs": [
    {
     "name": "stdout",
     "output_type": "stream",
     "text": [
      "After removing duplicates, there are 34202 rows, down from 37108 rows.\n",
      "Removed 2906 duplicate rows.\n"
     ]
    }
   ],
   "source": [
    "print(\"After removing duplicates, there are\", len(gaps), \"rows, down from\", before, \"rows.\")\n",
    "print(\"Removed\", before - len(gaps), \"duplicate rows.\")"
   ]
  },
  {
   "cell_type": "code",
   "execution_count": 7,
   "id": "47e04354",
   "metadata": {},
   "outputs": [],
   "source": [
    "gaps.to_excel(\"mergedCareGapsFinal.xlsx\", index=False)\n"
   ]
  },
  {
   "cell_type": "code",
   "execution_count": null,
   "id": "5457c5b8",
   "metadata": {},
   "outputs": [],
   "source": []
  }
 ],
 "metadata": {
  "kernelspec": {
   "display_name": "Python 3",
   "language": "python",
   "name": "python3"
  },
  "language_info": {
   "codemirror_mode": {
    "name": "ipython",
    "version": 3
   },
   "file_extension": ".py",
   "mimetype": "text/x-python",
   "name": "python",
   "nbconvert_exporter": "python",
   "pygments_lexer": "ipython3",
   "version": "3.12.10"
  }
 },
 "nbformat": 4,
 "nbformat_minor": 5
}
